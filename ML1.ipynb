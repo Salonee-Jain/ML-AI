{
  "nbformat": 4,
  "nbformat_minor": 0,
  "metadata": {
    "colab": {
      "name": "ML1.ipynb",
      "provenance": [],
      "authorship_tag": "ABX9TyMM5s23YvhDrwEuiCYxjzW9",
      "include_colab_link": true
    },
    "kernelspec": {
      "name": "python3",
      "display_name": "Python 3"
    },
    "language_info": {
      "name": "python"
    }
  },
  "cells": [
    {
      "cell_type": "markdown",
      "metadata": {
        "id": "view-in-github",
        "colab_type": "text"
      },
      "source": [
        "<a href=\"https://colab.research.google.com/github/Salonee-Jain/ML-AI/blob/main/ML1.ipynb\" target=\"_parent\"><img src=\"https://colab.research.google.com/assets/colab-badge.svg\" alt=\"Open In Colab\"/></a>"
      ]
    },
    {
      "cell_type": "markdown",
      "metadata": {
        "id": "80YmvG3FcgvH"
      },
      "source": [
        "Train your model to learn table of 10 \n",
        "\n",
        "Equation: `y = 10 * x`"
      ]
    },
    {
      "cell_type": "markdown",
      "metadata": {
        "id": "5tMWieOPdsr_"
      },
      "source": [
        "# Data creation\n",
        "\n",
        "```\n",
        "xTrain = [0, 1, 2, 3, 4, 5,...] \n",
        "yTrain = [10, 20, 20, 40, 50, ...]\n",
        "```"
      ]
    },
    {
      "cell_type": "code",
      "metadata": {
        "colab": {
          "base_uri": "https://localhost:8080/"
        },
        "id": "S2ARbbVHeI-y",
        "outputId": "fa93a080-15ca-4b64-907a-054e07d8bd25"
      },
      "source": [
        "\n",
        "x = [i for i in range(21)]\n",
        "print(x)\n",
        "y = [j*10 for j in x ]\n",
        "print(y)\n"
      ],
      "execution_count": 20,
      "outputs": [
        {
          "output_type": "stream",
          "text": [
            "[0, 1, 2, 3, 4, 5, 6, 7, 8, 9, 10, 11, 12, 13, 14, 15, 16, 17, 18, 19, 20]\n",
            "[0, 10, 20, 30, 40, 50, 60, 70, 80, 90, 100, 110, 120, 130, 140, 150, 160, 170, 180, 190, 200]\n"
          ],
          "name": "stdout"
        }
      ]
    },
    {
      "cell_type": "markdown",
      "metadata": {
        "id": "Xx2cadMPgXkh"
      },
      "source": [
        "## Appproach 1\n",
        "Defining a function for the equation `y = 10x`"
      ]
    },
    {
      "cell_type": "code",
      "metadata": {
        "id": "XtCKLpmlgWUL"
      },
      "source": [
        "def tempFunc():\n",
        "  y = 10*x\n",
        "  return y\n",
        "\n",
        "  for value in x:\n",
        "    print(tempFunc(value))"
      ],
      "execution_count": 19,
      "outputs": []
    },
    {
      "cell_type": "markdown",
      "metadata": {
        "id": "6RNAs4tyhbP7"
      },
      "source": [
        "## Approach 2 \n",
        "I'm enthusiastic about ML so I will make a redundant model for the table of 10\n"
      ]
    },
    {
      "cell_type": "code",
      "metadata": {
        "colab": {
          "base_uri": "https://localhost:8080/"
        },
        "id": "yZl6FwifiaE5",
        "outputId": "78233d9a-cc71-4d6c-dfe3-9754e5aecfbd"
      },
      "source": [
        "print(x)\n",
        "print(y)"
      ],
      "execution_count": 21,
      "outputs": [
        {
          "output_type": "stream",
          "text": [
            "[0, 1, 2, 3, 4, 5, 6, 7, 8, 9, 10, 11, 12, 13, 14, 15, 16, 17, 18, 19, 20]\n",
            "[0, 10, 20, 30, 40, 50, 60, 70, 80, 90, 100, 110, 120, 130, 140, 150, 160, 170, 180, 190, 200]\n"
          ],
          "name": "stdout"
        }
      ]
    },
    {
      "cell_type": "code",
      "metadata": {
        "colab": {
          "base_uri": "https://localhost:8080/"
        },
        "id": "VRc7EIaKhlcs",
        "outputId": "e588443d-0ddc-44ce-d598-eb5073b21ed0"
      },
      "source": [
        "\n",
        "xTrain = x[:-5]#Training Data\n",
        "yTrain = y[:-5]#Traininglabels\n",
        "\n",
        "xTest = x[-5:]#Testing Data\n",
        "yTest = y[-5:]#Testing label\n",
        "\n",
        "print(\n",
        "    f'''\n",
        "        xTrain : {xTrain}\n",
        "        yTrain : {yTrain}\n",
        "\n",
        "    '''\n",
        ")"
      ],
      "execution_count": 26,
      "outputs": [
        {
          "output_type": "stream",
          "text": [
            "\n",
            "        xTrain : [0, 1, 2, 3, 4, 5, 6, 7, 8, 9, 10, 11, 12, 13, 14, 15]\n",
            "        yTrain : [0, 10, 20, 30, 40, 50, 60, 70, 80, 90, 100, 110, 120, 130, 140, 150]\n",
            "\n",
            "    \n"
          ],
          "name": "stdout"
        }
      ]
    },
    {
      "cell_type": "code",
      "metadata": {
        "id": "4v6M5_rekjIi"
      },
      "source": [
        "import tensorboard_plugin_wit as tf\n",
        "from tensorflow import keras\n",
        "\n",
        "#perceptron model\n",
        "model = tf.keras.Sequential([\n",
        "                             tf.\n",
        "                             \n",
        "])"
      ],
      "execution_count": null,
      "outputs": []
    },
    {
      "cell_type": "code",
      "metadata": {
        "colab": {
          "base_uri": "https://localhost:8080/"
        },
        "id": "N1ULni1ZXhuI",
        "outputId": "4cbe7fb6-e759-437d-e4a8-9605b175a37a"
      },
      "source": [
        "\n",
        "from google.colab import drive\n",
        "drive.mount('/content/drive')\n"
      ],
      "execution_count": 4,
      "outputs": [
        {
          "output_type": "stream",
          "text": [
            "Mounted at /content/drive\n"
          ],
          "name": "stdout"
        }
      ]
    },
    {
      "cell_type": "code",
      "metadata": {
        "id": "FvCjpBBhaAW4"
      },
      "source": [
        ""
      ],
      "execution_count": null,
      "outputs": []
    }
  ]
}